{
 "cells": [
  {
   "cell_type": "markdown",
   "metadata": {},
   "source": []
  },
  {
   "cell_type": "code",
   "execution_count": 6,
   "metadata": {},
   "outputs": [
    {
     "name": "stdout",
     "output_type": "stream",
     "text": [
      "      Name  Age         City\n",
      "0    Alice   25     New York\n",
      "1      Bob   30  Los Angeles\n",
      "2  Chicago   35      Chicago\n"
     ]
    }
   ],
   "source": [
    "import pandas as pd\n",
    "import numpy as np\n",
    "\n",
    "data = {\n",
    "    'Name': ['Alice','Bob','Chicago'],\n",
    "    'Age' : [ 25,30,35],\n",
    "    'City' : ['New York','Los Angeles','Chicago']\n",
    "    }\n",
    "\n",
    "df = pd.DataFrame(data)\n",
    "print(df)"
   ]
  },
  {
   "cell_type": "code",
   "execution_count": 7,
   "metadata": {},
   "outputs": [
    {
     "name": "stdout",
     "output_type": "stream",
     "text": [
      "0      Alice\n",
      "1        Bob\n",
      "2    Chicago\n",
      "Name: Name, dtype: object\n"
     ]
    }
   ],
   "source": [
    "print(df['Name'])"
   ]
  },
  {
   "cell_type": "code",
   "execution_count": 12,
   "metadata": {},
   "outputs": [
    {
     "name": "stdout",
     "output_type": "stream",
     "text": [
      "    Name  Age      City\n",
      "0  Alice   25  New York\n"
     ]
    }
   ],
   "source": [
    "print(df[df['Age']<30])"
   ]
  },
  {
   "cell_type": "code",
   "execution_count": 8,
   "metadata": {},
   "outputs": [
    {
     "name": "stdout",
     "output_type": "stream",
     "text": [
      "      Name  Age     City\n",
      "2  Chicago   35  Chicago\n"
     ]
    }
   ],
   "source": [
    "print(df[df['Age']>30])"
   ]
  },
  {
   "cell_type": "code",
   "execution_count": 9,
   "metadata": {},
   "outputs": [
    {
     "name": "stdout",
     "output_type": "stream",
     "text": [
      "   orderId     Protuct  Quantity  Price        Date\n",
      "0        1      Laptop         2   1200  2025-01-01\n",
      "1        2  Smartphone         5    800  2025-01-02\n",
      "2        3  Headphones        10     50  2025-01-03\n",
      "3        4     Monitor         3    300  2025-01-04\n",
      "4        5    Keyborad         6    100  2025-01-05\n"
     ]
    }
   ],
   "source": [
    "data = {\n",
    "    \"orderId\":[1,2,3,4,5],\n",
    "    \"Protuct\": [\"Laptop\",\"Smartphone\",\"Headphones\",\"Monitor\",\"Keyborad\"],\n",
    "    \"Quantity\": [2,5,10,3,6],\n",
    "    \"Price\":[1200,800,50,300,100],\n",
    "    \"Date\":['2025-01-01','2025-01-02','2025-01-03','2025-01-04','2025-01-05']   \n",
    "}\n",
    "s1=pd.DataFrame(data)\n",
    "print(s1)"
   ]
  },
  {
   "cell_type": "code",
   "execution_count": 10,
   "metadata": {},
   "outputs": [
    {
     "name": "stdout",
     "output_type": "stream",
     "text": [
      "0    2400\n",
      "1    4000\n",
      "2     500\n",
      "3     900\n",
      "4     600\n",
      "dtype: int64\n"
     ]
    }
   ],
   "source": [
    "total_sales=s1['Quantity']*s1['Price']\n",
    "print(total_sales)"
   ]
  }
 ],
 "metadata": {
  "kernelspec": {
   "display_name": "Python 3",
   "language": "python",
   "name": "python3"
  },
  "language_info": {
   "codemirror_mode": {
    "name": "ipython",
    "version": 3
   },
   "file_extension": ".py",
   "mimetype": "text/x-python",
   "name": "python",
   "nbconvert_exporter": "python",
   "pygments_lexer": "ipython3",
   "version": "3.11.9"
  }
 },
 "nbformat": 4,
 "nbformat_minor": 2
}
